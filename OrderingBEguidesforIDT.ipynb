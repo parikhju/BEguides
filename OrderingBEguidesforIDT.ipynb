{
 "cells": [
  {
   "cell_type": "markdown",
   "metadata": {},
   "source": [
    "# Ordering oligos from IDT\n",
    "Create an input file of protopacer sequences, and use the excel sheet template shown\n",
    "\n"
   ]
  },
  {
   "cell_type": "code",
   "execution_count": 3,
   "metadata": {},
   "outputs": [
    {
     "name": "stdout",
     "output_type": "stream",
     "text": [
      "Oligo ordering file saved as: /mtn/oligo_ordering_output.xlsx\n"
     ]
    }
   ],
   "source": [
    "import pandas as pd\n",
    "from Bio.Seq import Seq\n",
    "\n",
    "# Load your Excel file of IDT template containing a name and 20bp sequence \n",
    "file_path = 'location/template-paste-entry-notes.xlsx'  # Replace with your filename's location \n",
    "df = pd.read_excel(file_path)\n",
    "\n",
    "# Function to process sequence and create oligos\n",
    "def make_oligos(seq):\n",
    "    seq = seq.strip().upper()\n",
    "    if len(seq) != 20:\n",
    "        return None, None, None  # For invalid input\n",
    "    adjusted_seq = 'G' + seq[1:]  # Force G at first position\n",
    "    fwd_oligo = 'CACC' + adjusted_seq\n",
    "    rev_oligo = 'AAAC' + str(Seq(adjusted_seq).reverse_complement())\n",
    "    return adjusted_seq, fwd_oligo, rev_oligo\n",
    "\n",
    "# Apply transformation\n",
    "df[['Adjusted Sequence', 'Forward Oligo', 'Reverse Oligo']] = df['Sequence'].apply(lambda x: pd.Series(make_oligos(x)))\n",
    "\n",
    "# Create rows for each oligo\n",
    "forward_rows = df.copy()\n",
    "forward_rows['Name'] = forward_rows['Name'].astype(str) + ' Forward'\n",
    "forward_rows['Sequence'] = forward_rows['Forward Oligo']\n",
    "\n",
    "reverse_rows = df.copy()\n",
    "reverse_rows['Name'] = reverse_rows['Name'].astype(str) + ' Reverse'\n",
    "reverse_rows['Sequence'] = reverse_rows['Reverse Oligo']\n",
    "\n",
    "# Add Conditions for IDT \n",
    "final_df = pd.concat([forward_rows, reverse_rows], ignore_index=True)\n",
    "final_df['Scale'] = '25nm'\n",
    "final_df['Purification'] = 'STD'\n",
    "\n",
    "# Select final columns to match IDT format\n",
    "final_df = final_df[['Name', 'Sequence', 'Notes', 'Scale', 'Purification']]\n",
    "\n",
    "# Save output and ready to upload to order \n",
    "output_path = 'mtn/oligo_ordering_output.xlsx' #add your location\n",
    "final_df.to_excel(output_path, index=False)\n",
    "\n",
    "print(f\"Oligo ordering file saved as: {output_path}\")\n"
   ]
  }
 ],
 "metadata": {
  "kernelspec": {
   "display_name": "base",
   "language": "python",
   "name": "python3"
  },
  "language_info": {
   "codemirror_mode": {
    "name": "ipython",
    "version": 3
   },
   "file_extension": ".py",
   "mimetype": "text/x-python",
   "name": "python",
   "nbconvert_exporter": "python",
   "pygments_lexer": "ipython3",
   "version": "3.12.4"
  }
 },
 "nbformat": 4,
 "nbformat_minor": 2
}
